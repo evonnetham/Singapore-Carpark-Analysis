{
 "cells": [
  {
   "cell_type": "markdown",
   "metadata": {},
   "source": [
    "# Background\n",
    "Due to these businesses model, we will be looking at carparks that offer ELECTRONIC PARKING and WHOLE DAY short-term parking are applicable.\n",
    "\n",
    "\n",
    "### Objective\n",
    "- The carparks that are most under utilized\n",
    "- The largest carparks\n",
    "- The Fluctuations in availability look like on the weekends\n",
    "\n",
    "Due to the business model, only carparks that offer ELECTRONIC PARKING and WHOLE DAY short- term parking are applicable."
   ]
  },
  {
   "cell_type": "markdown",
   "metadata": {},
   "source": [
    "# Import Libraries"
   ]
  },
  {
   "cell_type": "code",
   "execution_count": 1,
   "metadata": {},
   "outputs": [],
   "source": [
    "import datetime\n",
    "import requests\n",
    "import json\n",
    "\n",
    "import random\n",
    "import time\n",
    "\n",
    "import pandas as pd\n",
    "import numpy as np\n",
    "\n",
    "import seaborn as sns\n",
    "import matplotlib.pyplot as plt\n",
    "%matplotlib inline\n",
    "\n",
    "# show all rows and columns\n",
    "# pd.set_option('display.max_columns', None)\n",
    "# pd.set_option('display.max_rows', None)\n",
    "pd.options.display.max_colwidth = 1000"
   ]
  },
  {
   "cell_type": "markdown",
   "metadata": {},
   "source": [
    "# Carpark Reference Data"
   ]
  },
  {
   "cell_type": "markdown",
   "metadata": {},
   "source": [
    "Loading in the initial dataset which contains unique carpark number, its address, x and y coordinates, type of parking system employed, and if it allows short term parking and if it allows night time parking. Here's a small glimpse at the structure of the car park data. "
   ]
  },
  {
   "cell_type": "code",
   "execution_count": 2,
   "metadata": {},
   "outputs": [
    {
     "data": {
      "text/html": [
       "<div>\n",
       "<style scoped>\n",
       "    .dataframe tbody tr th:only-of-type {\n",
       "        vertical-align: middle;\n",
       "    }\n",
       "\n",
       "    .dataframe tbody tr th {\n",
       "        vertical-align: top;\n",
       "    }\n",
       "\n",
       "    .dataframe thead th {\n",
       "        text-align: right;\n",
       "    }\n",
       "</style>\n",
       "<table border=\"1\" class=\"dataframe\">\n",
       "  <thead>\n",
       "    <tr style=\"text-align: right;\">\n",
       "      <th></th>\n",
       "      <th>car_park_no</th>\n",
       "      <th>address</th>\n",
       "      <th>x_coord</th>\n",
       "      <th>y_coord</th>\n",
       "      <th>car_park_type</th>\n",
       "      <th>type_of_parking_system</th>\n",
       "      <th>short_term_parking</th>\n",
       "      <th>free_parking</th>\n",
       "      <th>night_parking</th>\n",
       "      <th>car_park_decks</th>\n",
       "      <th>gantry_height</th>\n",
       "      <th>car_park_basement</th>\n",
       "    </tr>\n",
       "  </thead>\n",
       "  <tbody>\n",
       "    <tr>\n",
       "      <th>0</th>\n",
       "      <td>ACB</td>\n",
       "      <td>BLK 270/271 ALBERT CENTRE BASEMENT CAR PARK</td>\n",
       "      <td>30314.7936</td>\n",
       "      <td>31490.4942</td>\n",
       "      <td>BASEMENT CAR PARK</td>\n",
       "      <td>ELECTRONIC PARKING</td>\n",
       "      <td>WHOLE DAY</td>\n",
       "      <td>NO</td>\n",
       "      <td>YES</td>\n",
       "      <td>1</td>\n",
       "      <td>1.8</td>\n",
       "      <td>Y</td>\n",
       "    </tr>\n",
       "    <tr>\n",
       "      <th>1</th>\n",
       "      <td>ACM</td>\n",
       "      <td>BLK 98A ALJUNIED CRESCENT</td>\n",
       "      <td>33758.4143</td>\n",
       "      <td>33695.5198</td>\n",
       "      <td>MULTI-STOREY CAR PARK</td>\n",
       "      <td>ELECTRONIC PARKING</td>\n",
       "      <td>WHOLE DAY</td>\n",
       "      <td>SUN &amp; PH FR 7AM-10.30PM</td>\n",
       "      <td>YES</td>\n",
       "      <td>5</td>\n",
       "      <td>2.1</td>\n",
       "      <td>N</td>\n",
       "    </tr>\n",
       "    <tr>\n",
       "      <th>2</th>\n",
       "      <td>AH1</td>\n",
       "      <td>BLK 101 JALAN DUSUN</td>\n",
       "      <td>29257.7203</td>\n",
       "      <td>34500.3599</td>\n",
       "      <td>SURFACE CAR PARK</td>\n",
       "      <td>ELECTRONIC PARKING</td>\n",
       "      <td>WHOLE DAY</td>\n",
       "      <td>SUN &amp; PH FR 7AM-10.30PM</td>\n",
       "      <td>YES</td>\n",
       "      <td>0</td>\n",
       "      <td>0.0</td>\n",
       "      <td>N</td>\n",
       "    </tr>\n",
       "    <tr>\n",
       "      <th>3</th>\n",
       "      <td>AK19</td>\n",
       "      <td>BLOCK 253 ANG MO KIO STREET 21</td>\n",
       "      <td>28185.4359</td>\n",
       "      <td>39012.6664</td>\n",
       "      <td>SURFACE CAR PARK</td>\n",
       "      <td>COUPON PARKING</td>\n",
       "      <td>7AM-7PM</td>\n",
       "      <td>NO</td>\n",
       "      <td>NO</td>\n",
       "      <td>0</td>\n",
       "      <td>0.0</td>\n",
       "      <td>N</td>\n",
       "    </tr>\n",
       "    <tr>\n",
       "      <th>4</th>\n",
       "      <td>AK31</td>\n",
       "      <td>BLK 302/348 ANG MO KIO ST 31</td>\n",
       "      <td>29482.0290</td>\n",
       "      <td>38684.1754</td>\n",
       "      <td>SURFACE CAR PARK</td>\n",
       "      <td>COUPON PARKING</td>\n",
       "      <td>NO</td>\n",
       "      <td>NO</td>\n",
       "      <td>NO</td>\n",
       "      <td>0</td>\n",
       "      <td>0.0</td>\n",
       "      <td>N</td>\n",
       "    </tr>\n",
       "  </tbody>\n",
       "</table>\n",
       "</div>"
      ],
      "text/plain": [
       "  car_park_no                                      address     x_coord  \\\n",
       "0         ACB  BLK 270/271 ALBERT CENTRE BASEMENT CAR PARK  30314.7936   \n",
       "1         ACM                    BLK 98A ALJUNIED CRESCENT  33758.4143   \n",
       "2         AH1                          BLK 101 JALAN DUSUN  29257.7203   \n",
       "3        AK19               BLOCK 253 ANG MO KIO STREET 21  28185.4359   \n",
       "4        AK31                 BLK 302/348 ANG MO KIO ST 31  29482.0290   \n",
       "\n",
       "      y_coord          car_park_type type_of_parking_system  \\\n",
       "0  31490.4942      BASEMENT CAR PARK     ELECTRONIC PARKING   \n",
       "1  33695.5198  MULTI-STOREY CAR PARK     ELECTRONIC PARKING   \n",
       "2  34500.3599       SURFACE CAR PARK     ELECTRONIC PARKING   \n",
       "3  39012.6664       SURFACE CAR PARK         COUPON PARKING   \n",
       "4  38684.1754       SURFACE CAR PARK         COUPON PARKING   \n",
       "\n",
       "  short_term_parking             free_parking night_parking  car_park_decks  \\\n",
       "0          WHOLE DAY                       NO           YES               1   \n",
       "1          WHOLE DAY  SUN & PH FR 7AM-10.30PM           YES               5   \n",
       "2          WHOLE DAY  SUN & PH FR 7AM-10.30PM           YES               0   \n",
       "3            7AM-7PM                       NO            NO               0   \n",
       "4                 NO                       NO            NO               0   \n",
       "\n",
       "   gantry_height car_park_basement  \n",
       "0            1.8                 Y  \n",
       "1            2.1                 N  \n",
       "2            0.0                 N  \n",
       "3            0.0                 N  \n",
       "4            0.0                 N  "
      ]
     },
     "metadata": {},
     "output_type": "display_data"
    },
    {
     "name": "stdout",
     "output_type": "stream",
     "text": [
      "Total Carparks in SG: 2158\n"
     ]
    }
   ],
   "source": [
    "carpark = pd.read_csv('./datasets/hdb-carpark-information.csv')\n",
    "display(carpark.head())\n",
    "print(f'Total Carparks in SG: {carpark.car_park_no.nunique()}')\n",
    "\n",
    "# # Check if the there's any varying categories within the target column\n",
    "# print(f'Types of Parking System: {carpark.type_of_parking_system.unique()}')\n",
    "# print(f'Types of Short term Parking: {carpark.short_term_parking.unique()}')"
   ]
  },
  {
   "cell_type": "code",
   "execution_count": 3,
   "metadata": {},
   "outputs": [
    {
     "data": {
      "image/png": "[encoded data removed]",
      "text/plain": [
       "<Figure size 648x360 with 1 Axes>"
      ]
     },
     "metadata": {
      "needs_background": "light"
     },
     "output_type": "display_data"
    }
   ],
   "source": [
    "plt.figure(figsize=(9,5))\n",
    "sns.histplot(carpark, \n",
    "             x=\"short_term_parking\", \n",
    "             hue=\"type_of_parking_system\", \n",
    "             shrink=.8)\n",
    "plt.ylabel('Count', fontsize=12)\n",
    "plt.xlabel('Types of Short Term Parking', fontsize=12);"
   ]
  },
  {
   "cell_type": "code",
   "execution_count": 4,
   "metadata": {},
   "outputs": [
    {
     "name": "stdout",
     "output_type": "stream",
     "text": [
      "Total Carpark (Electronic & Whole Day Only): 1650\n",
      "Total Carpark (Electronic & Whole Day Only): 76.46%\n"
     ]
    }
   ],
   "source": [
    "# Select carparks that support both electronic and whole day short term parking\n",
    "electronic_carpark = carpark[(carpark['type_of_parking_system'] == \"ELECTRONIC PARKING\") & (carpark['short_term_parking'] == 'WHOLE DAY')]\n",
    "print(f'Total Carpark (Electronic & Whole Day Only): {electronic_carpark.shape[0]}')\n",
    "print(f'Total Carpark (Electronic & Whole Day Only): {np.round(electronic_carpark.shape[0]/carpark.shape[0]*100,2)}%')"
   ]
  },
  {
   "cell_type": "markdown",
   "metadata": {},
   "source": [
    "The graph above shows that there are in fact two types of parking systems and majority of the them are electronic(shown in the map below as well, highlighted in grey). \n",
    "\n",
    "![map](./images/tableau_type_of_parking.png \"carpark types\")\n",
    "\n",
    "Additionally, out of 2158 carparks in Singapore, more than half of them supports whole day parking (also shown in the graph below, highlighted in light green). Since the goal is to build a tool for whole-day parking that support electronic, we will filter out all the parking lots that don't support this type of transaction. \n",
    "\n",
    "![map](./images/tableau_short_term_parking.png \"Types of short term parking\")"
   ]
  },
  {
   "cell_type": "markdown",
   "metadata": {},
   "source": [
    "With the help of Tableau, we can now see the spatial distribution of carparks across Singapore. It’s definite that most lots support whole day and electronic, with 7:00 AM - 7:00 AM & 7:00 AM - 10:00 PM and coupon car parks peppered throughout the island."
   ]
  },
  {
   "cell_type": "code",
   "execution_count": 5,
   "metadata": {},
   "outputs": [],
   "source": [
    "# # For Checking Purposes - Turns out there are carpark that is not in the carpark Reference Data\n",
    "# carpark[carpark['car_park_no']=='CKM5'] "
   ]
  },
  {
   "cell_type": "markdown",
   "metadata": {},
   "source": [
    "# Carpark Availability Data"
   ]
  },
  {
   "cell_type": "markdown",
   "metadata": {},
   "source": [
    "Data for the carpark availability in Singapore: \n",
    "- Retrieved every minute \n",
    "- Use the date_time parameter to retrieve the latest carpark availability at that moment in time \n",
    "- Limited to 60 requests per minute per API key"
   ]
  },
  {
   "cell_type": "markdown",
   "metadata": {},
   "source": [
    "## Retreiving Data\n",
    "Looping through data, an hour at a time for one week. Starting from a random Monday."
   ]
  },
  {
   "cell_type": "code",
   "execution_count": 6,
   "metadata": {
    "scrolled": true
   },
   "outputs": [],
   "source": [
    "# url = \"https://api.data.gov.sg/v1/transport/carpark-availability\"\n",
    "\n",
    "# days = 7 # Number of days of data to extract\n",
    "from_date = '2021-03-22T00:30:00' # Date of when to extract from - Monday\n",
    "# from_date_iso = datetime.datetime.fromisoformat(from_date) \n",
    "# date_range = [from_date_iso + datetime.timedelta(hours=i) for i in range(24*days)] # Hourly\n",
    "\n",
    "# data = []\n",
    "# index = 1\n",
    "# sleep_duration = 5\n",
    "\n",
    "# print(\"Scanning...\")\n",
    "# for date in date_range:\n",
    "#     params = {'date_time': date.isoformat()}\n",
    "#     print(f'{index}. Retreiving Data for:', date)\n",
    "#     response = requests.get(url, params=params)\n",
    "\n",
    "#     while response.status_code != 200:\n",
    "#         print(f'Status error {response.status_code}, Retrying in {sleep_duration} seconds.')\n",
    "#         time.sleep(sleep_duration)\n",
    "#         response = requests.get(url, params=params)\n",
    "    \n",
    "#     index += 1\n",
    "        \n",
    "#     current_dict = json.loads(response.text)['items'][0]['carpark_data']\n",
    "#     data.extend(current_dict)\n",
    "\n",
    "#     print('Next Fetch in:', sleep_duration, 'seconds')\n",
    "#     time.sleep(sleep_duration)\n",
    "    \n",
    "# with open('./datasets/carpark_availability.json', 'w') as json_file:\n",
    "#     json.dump(data, json_file)\n",
    "    \n",
    "# print('Completed & Saved')"
   ]
  },
  {
   "cell_type": "markdown",
   "metadata": {},
   "source": [
    "### Convert json to Dataframe"
   ]
  },
  {
   "cell_type": "code",
   "execution_count": 7,
   "metadata": {},
   "outputs": [],
   "source": [
    "# Load json file\n",
    "with open('./datasets/carpark_availability.json') as f:\n",
    "    data = json.load(f)"
   ]
  },
  {
   "cell_type": "code",
   "execution_count": 8,
   "metadata": {
    "scrolled": false
   },
   "outputs": [
    {
     "name": "stdout",
     "output_type": "stream",
     "text": [
      "(349565, 3)\n"
     ]
    },
    {
     "data": {
      "text/html": [
       "<div>\n",
       "<style scoped>\n",
       "    .dataframe tbody tr th:only-of-type {\n",
       "        vertical-align: middle;\n",
       "    }\n",
       "\n",
       "    .dataframe tbody tr th {\n",
       "        vertical-align: top;\n",
       "    }\n",
       "\n",
       "    .dataframe thead th {\n",
       "        text-align: right;\n",
       "    }\n",
       "</style>\n",
       "<table border=\"1\" class=\"dataframe\">\n",
       "  <thead>\n",
       "    <tr style=\"text-align: right;\">\n",
       "      <th></th>\n",
       "      <th>carpark_info</th>\n",
       "      <th>carpark_number</th>\n",
       "      <th>update_datetime</th>\n",
       "    </tr>\n",
       "  </thead>\n",
       "  <tbody>\n",
       "    <tr>\n",
       "      <th>0</th>\n",
       "      <td>[{'total_lots': '91', 'lot_type': 'C', 'lots_available': '38'}]</td>\n",
       "      <td>HE12</td>\n",
       "      <td>2021-03-22T00:03:10</td>\n",
       "    </tr>\n",
       "    <tr>\n",
       "      <th>1</th>\n",
       "      <td>[{'total_lots': '583', 'lot_type': 'C', 'lots_available': '483'}]</td>\n",
       "      <td>HLM</td>\n",
       "      <td>2021-03-22T00:03:25</td>\n",
       "    </tr>\n",
       "    <tr>\n",
       "      <th>2</th>\n",
       "      <td>[{'total_lots': '322', 'lot_type': 'C', 'lots_available': '114'}]</td>\n",
       "      <td>RHM</td>\n",
       "      <td>2021-03-22T00:03:10</td>\n",
       "    </tr>\n",
       "    <tr>\n",
       "      <th>3</th>\n",
       "      <td>[{'total_lots': '97', 'lot_type': 'C', 'lots_available': '86'}]</td>\n",
       "      <td>BM29</td>\n",
       "      <td>2021-03-22T00:03:12</td>\n",
       "    </tr>\n",
       "    <tr>\n",
       "      <th>4</th>\n",
       "      <td>[{'total_lots': '96', 'lot_type': 'C', 'lots_available': '63'}]</td>\n",
       "      <td>Q81</td>\n",
       "      <td>2021-03-22T00:03:09</td>\n",
       "    </tr>\n",
       "    <tr>\n",
       "      <th>5</th>\n",
       "      <td>[{'total_lots': '176', 'lot_type': 'C', 'lots_available': '137'}]</td>\n",
       "      <td>C20</td>\n",
       "      <td>2021-03-22T00:03:13</td>\n",
       "    </tr>\n",
       "    <tr>\n",
       "      <th>6</th>\n",
       "      <td>[{'total_lots': '228', 'lot_type': 'C', 'lots_available': '167'}]</td>\n",
       "      <td>FR3M</td>\n",
       "      <td>2021-03-22T00:03:38</td>\n",
       "    </tr>\n",
       "    <tr>\n",
       "      <th>7</th>\n",
       "      <td>[{'total_lots': '289', 'lot_type': 'C', 'lots_available': '92'}]</td>\n",
       "      <td>C32</td>\n",
       "      <td>2021-03-22T00:03:23</td>\n",
       "    </tr>\n",
       "    <tr>\n",
       "      <th>8</th>\n",
       "      <td>[{'total_lots': '332', 'lot_type': 'C', 'lots_available': '100'}]</td>\n",
       "      <td>C6</td>\n",
       "      <td>2021-03-22T00:03:34</td>\n",
       "    </tr>\n",
       "    <tr>\n",
       "      <th>9</th>\n",
       "      <td>[{'total_lots': '273', 'lot_type': 'C', 'lots_available': '67'}]</td>\n",
       "      <td>TG2</td>\n",
       "      <td>2021-03-22T00:03:17</td>\n",
       "    </tr>\n",
       "  </tbody>\n",
       "</table>\n",
       "</div>"
      ],
      "text/plain": [
       "                                                        carpark_info  \\\n",
       "0    [{'total_lots': '91', 'lot_type': 'C', 'lots_available': '38'}]   \n",
       "1  [{'total_lots': '583', 'lot_type': 'C', 'lots_available': '483'}]   \n",
       "2  [{'total_lots': '322', 'lot_type': 'C', 'lots_available': '114'}]   \n",
       "3    [{'total_lots': '97', 'lot_type': 'C', 'lots_available': '86'}]   \n",
       "4    [{'total_lots': '96', 'lot_type': 'C', 'lots_available': '63'}]   \n",
       "5  [{'total_lots': '176', 'lot_type': 'C', 'lots_available': '137'}]   \n",
       "6  [{'total_lots': '228', 'lot_type': 'C', 'lots_available': '167'}]   \n",
       "7   [{'total_lots': '289', 'lot_type': 'C', 'lots_available': '92'}]   \n",
       "8  [{'total_lots': '332', 'lot_type': 'C', 'lots_available': '100'}]   \n",
       "9   [{'total_lots': '273', 'lot_type': 'C', 'lots_available': '67'}]   \n",
       "\n",
       "  carpark_number      update_datetime  \n",
       "0           HE12  2021-03-22T00:03:10  \n",
       "1            HLM  2021-03-22T00:03:25  \n",
       "2            RHM  2021-03-22T00:03:10  \n",
       "3           BM29  2021-03-22T00:03:12  \n",
       "4            Q81  2021-03-22T00:03:09  \n",
       "5            C20  2021-03-22T00:03:13  \n",
       "6           FR3M  2021-03-22T00:03:38  \n",
       "7            C32  2021-03-22T00:03:23  \n",
       "8             C6  2021-03-22T00:03:34  \n",
       "9            TG2  2021-03-22T00:03:17  "
      ]
     },
     "metadata": {},
     "output_type": "display_data"
    },
    {
     "data": {
      "text/html": [
       "<div>\n",
       "<style scoped>\n",
       "    .dataframe tbody tr th:only-of-type {\n",
       "        vertical-align: middle;\n",
       "    }\n",
       "\n",
       "    .dataframe tbody tr th {\n",
       "        vertical-align: top;\n",
       "    }\n",
       "\n",
       "    .dataframe thead th {\n",
       "        text-align: right;\n",
       "    }\n",
       "</style>\n",
       "<table border=\"1\" class=\"dataframe\">\n",
       "  <thead>\n",
       "    <tr style=\"text-align: right;\">\n",
       "      <th></th>\n",
       "      <th>carpark_info</th>\n",
       "      <th>carpark_number</th>\n",
       "      <th>update_datetime</th>\n",
       "    </tr>\n",
       "  </thead>\n",
       "  <tbody>\n",
       "    <tr>\n",
       "      <th>349555</th>\n",
       "      <td>[{'total_lots': '278', 'lot_type': 'C', 'lots_available': '233'}]</td>\n",
       "      <td>PDL2</td>\n",
       "      <td>2021-03-28T23:08:21</td>\n",
       "    </tr>\n",
       "    <tr>\n",
       "      <th>349556</th>\n",
       "      <td>[{'total_lots': '1469', 'lot_type': 'C', 'lots_available': '1463'}]</td>\n",
       "      <td>NT5</td>\n",
       "      <td>2021-03-28T23:07:24</td>\n",
       "    </tr>\n",
       "    <tr>\n",
       "      <th>349557</th>\n",
       "      <td>[{'total_lots': '1129', 'lot_type': 'C', 'lots_available': '537'}]</td>\n",
       "      <td>A61</td>\n",
       "      <td>2021-03-28T23:09:47</td>\n",
       "    </tr>\n",
       "    <tr>\n",
       "      <th>349558</th>\n",
       "      <td>[{'total_lots': '500', 'lot_type': 'C', 'lots_available': '54'}]</td>\n",
       "      <td>Y38</td>\n",
       "      <td>2021-03-28T23:10:10</td>\n",
       "    </tr>\n",
       "    <tr>\n",
       "      <th>349559</th>\n",
       "      <td>[{'total_lots': '50', 'lot_type': 'H', 'lots_available': '50'}, {'total_lots': '43', 'lot_type': 'Y', 'lots_available': '40'}]</td>\n",
       "      <td>GE5</td>\n",
       "      <td>2021-03-28T22:55:55</td>\n",
       "    </tr>\n",
       "    <tr>\n",
       "      <th>349560</th>\n",
       "      <td>[{'total_lots': '250', 'lot_type': 'C', 'lots_available': '249'}]</td>\n",
       "      <td>BA4</td>\n",
       "      <td>2021-03-28T23:01:42</td>\n",
       "    </tr>\n",
       "    <tr>\n",
       "      <th>349561</th>\n",
       "      <td>[{'total_lots': '10', 'lot_type': 'C', 'lots_available': '0'}]</td>\n",
       "      <td>JS1L</td>\n",
       "      <td>2021-03-28T23:10:55</td>\n",
       "    </tr>\n",
       "    <tr>\n",
       "      <th>349562</th>\n",
       "      <td>[{'total_lots': '333', 'lot_type': 'C', 'lots_available': '131'}]</td>\n",
       "      <td>A26</td>\n",
       "      <td>2021-03-28T23:02:14</td>\n",
       "    </tr>\n",
       "    <tr>\n",
       "      <th>349563</th>\n",
       "      <td>[{'total_lots': '200', 'lot_type': 'C', 'lots_available': '199'}]</td>\n",
       "      <td>B65M</td>\n",
       "      <td>2021-03-28T23:08:41</td>\n",
       "    </tr>\n",
       "    <tr>\n",
       "      <th>349564</th>\n",
       "      <td>[{'total_lots': '100', 'lot_type': 'C', 'lots_available': '99'}]</td>\n",
       "      <td>B65L</td>\n",
       "      <td>2021-03-28T23:08:41</td>\n",
       "    </tr>\n",
       "  </tbody>\n",
       "</table>\n",
       "</div>"
      ],
      "text/plain": [
       "                                                                                                                          carpark_info  \\\n",
       "349555                                                               [{'total_lots': '278', 'lot_type': 'C', 'lots_available': '233'}]   \n",
       "349556                                                             [{'total_lots': '1469', 'lot_type': 'C', 'lots_available': '1463'}]   \n",
       "349557                                                              [{'total_lots': '1129', 'lot_type': 'C', 'lots_available': '537'}]   \n",
       "349558                                                                [{'total_lots': '500', 'lot_type': 'C', 'lots_available': '54'}]   \n",
       "349559  [{'total_lots': '50', 'lot_type': 'H', 'lots_available': '50'}, {'total_lots': '43', 'lot_type': 'Y', 'lots_available': '40'}]   \n",
       "349560                                                               [{'total_lots': '250', 'lot_type': 'C', 'lots_available': '249'}]   \n",
       "349561                                                                  [{'total_lots': '10', 'lot_type': 'C', 'lots_available': '0'}]   \n",
       "349562                                                               [{'total_lots': '333', 'lot_type': 'C', 'lots_available': '131'}]   \n",
       "349563                                                               [{'total_lots': '200', 'lot_type': 'C', 'lots_available': '199'}]   \n",
       "349564                                                                [{'total_lots': '100', 'lot_type': 'C', 'lots_available': '99'}]   \n",
       "\n",
       "       carpark_number      update_datetime  \n",
       "349555           PDL2  2021-03-28T23:08:21  \n",
       "349556            NT5  2021-03-28T23:07:24  \n",
       "349557            A61  2021-03-28T23:09:47  \n",
       "349558            Y38  2021-03-28T23:10:10  \n",
       "349559            GE5  2021-03-28T22:55:55  \n",
       "349560            BA4  2021-03-28T23:01:42  \n",
       "349561           JS1L  2021-03-28T23:10:55  \n",
       "349562            A26  2021-03-28T23:02:14  \n",
       "349563           B65M  2021-03-28T23:08:41  \n",
       "349564           B65L  2021-03-28T23:08:41  "
      ]
     },
     "metadata": {},
     "output_type": "display_data"
    }
   ],
   "source": [
    "df = pd.DataFrame(data)\n",
    "print(df.shape)\n",
    "display(df.head(10))\n",
    "display(df.tail(10))"
   ]
  },
  {
   "cell_type": "markdown",
   "metadata": {},
   "source": [
    "Having a closer look at the data shown here, some of the carparks appeared to have more than one carpark information, due to the distinction of the lot type, which will be dealt with later on. First, I will be flattening the data in `carpark_info` to get the nested data into their respective columns."
   ]
  },
  {
   "cell_type": "code",
   "execution_count": 9,
   "metadata": {},
   "outputs": [
    {
     "name": "stdout",
     "output_type": "stream",
     "text": [
      "(391437, 5)\n"
     ]
    },
    {
     "data": {
      "text/html": [
       "<div>\n",
       "<style scoped>\n",
       "    .dataframe tbody tr th:only-of-type {\n",
       "        vertical-align: middle;\n",
       "    }\n",
       "\n",
       "    .dataframe tbody tr th {\n",
       "        vertical-align: top;\n",
       "    }\n",
       "\n",
       "    .dataframe thead th {\n",
       "        text-align: right;\n",
       "    }\n",
       "</style>\n",
       "<table border=\"1\" class=\"dataframe\">\n",
       "  <thead>\n",
       "    <tr style=\"text-align: right;\">\n",
       "      <th></th>\n",
       "      <th>total_lots</th>\n",
       "      <th>lot_type</th>\n",
       "      <th>lots_available</th>\n",
       "      <th>carpark_number</th>\n",
       "      <th>update_datetime</th>\n",
       "    </tr>\n",
       "  </thead>\n",
       "  <tbody>\n",
       "    <tr>\n",
       "      <th>0</th>\n",
       "      <td>91</td>\n",
       "      <td>C</td>\n",
       "      <td>38</td>\n",
       "      <td>HE12</td>\n",
       "      <td>2021-03-22T00:03:10</td>\n",
       "    </tr>\n",
       "    <tr>\n",
       "      <th>1</th>\n",
       "      <td>583</td>\n",
       "      <td>C</td>\n",
       "      <td>483</td>\n",
       "      <td>HLM</td>\n",
       "      <td>2021-03-22T00:03:25</td>\n",
       "    </tr>\n",
       "    <tr>\n",
       "      <th>2</th>\n",
       "      <td>322</td>\n",
       "      <td>C</td>\n",
       "      <td>114</td>\n",
       "      <td>RHM</td>\n",
       "      <td>2021-03-22T00:03:10</td>\n",
       "    </tr>\n",
       "    <tr>\n",
       "      <th>3</th>\n",
       "      <td>97</td>\n",
       "      <td>C</td>\n",
       "      <td>86</td>\n",
       "      <td>BM29</td>\n",
       "      <td>2021-03-22T00:03:12</td>\n",
       "    </tr>\n",
       "    <tr>\n",
       "      <th>4</th>\n",
       "      <td>96</td>\n",
       "      <td>C</td>\n",
       "      <td>63</td>\n",
       "      <td>Q81</td>\n",
       "      <td>2021-03-22T00:03:09</td>\n",
       "    </tr>\n",
       "  </tbody>\n",
       "</table>\n",
       "</div>"
      ],
      "text/plain": [
       "  total_lots lot_type lots_available carpark_number      update_datetime\n",
       "0         91        C             38           HE12  2021-03-22T00:03:10\n",
       "1        583        C            483            HLM  2021-03-22T00:03:25\n",
       "2        322        C            114            RHM  2021-03-22T00:03:10\n",
       "3         97        C             86           BM29  2021-03-22T00:03:12\n",
       "4         96        C             63            Q81  2021-03-22T00:03:09"
      ]
     },
     "metadata": {},
     "output_type": "display_data"
    },
    {
     "data": {
      "text/html": [
       "<div>\n",
       "<style scoped>\n",
       "    .dataframe tbody tr th:only-of-type {\n",
       "        vertical-align: middle;\n",
       "    }\n",
       "\n",
       "    .dataframe tbody tr th {\n",
       "        vertical-align: top;\n",
       "    }\n",
       "\n",
       "    .dataframe thead th {\n",
       "        text-align: right;\n",
       "    }\n",
       "</style>\n",
       "<table border=\"1\" class=\"dataframe\">\n",
       "  <thead>\n",
       "    <tr style=\"text-align: right;\">\n",
       "      <th></th>\n",
       "      <th>total_lots</th>\n",
       "      <th>lot_type</th>\n",
       "      <th>lots_available</th>\n",
       "      <th>carpark_number</th>\n",
       "      <th>update_datetime</th>\n",
       "    </tr>\n",
       "  </thead>\n",
       "  <tbody>\n",
       "    <tr>\n",
       "      <th>391432</th>\n",
       "      <td>250</td>\n",
       "      <td>C</td>\n",
       "      <td>249</td>\n",
       "      <td>BA4</td>\n",
       "      <td>2021-03-28T23:01:42</td>\n",
       "    </tr>\n",
       "    <tr>\n",
       "      <th>391433</th>\n",
       "      <td>10</td>\n",
       "      <td>C</td>\n",
       "      <td>0</td>\n",
       "      <td>JS1L</td>\n",
       "      <td>2021-03-28T23:10:55</td>\n",
       "    </tr>\n",
       "    <tr>\n",
       "      <th>391434</th>\n",
       "      <td>333</td>\n",
       "      <td>C</td>\n",
       "      <td>131</td>\n",
       "      <td>A26</td>\n",
       "      <td>2021-03-28T23:02:14</td>\n",
       "    </tr>\n",
       "    <tr>\n",
       "      <th>391435</th>\n",
       "      <td>200</td>\n",
       "      <td>C</td>\n",
       "      <td>199</td>\n",
       "      <td>B65M</td>\n",
       "      <td>2021-03-28T23:08:41</td>\n",
       "    </tr>\n",
       "    <tr>\n",
       "      <th>391436</th>\n",
       "      <td>100</td>\n",
       "      <td>C</td>\n",
       "      <td>99</td>\n",
       "      <td>B65L</td>\n",
       "      <td>2021-03-28T23:08:41</td>\n",
       "    </tr>\n",
       "  </tbody>\n",
       "</table>\n",
       "</div>"
      ],
      "text/plain": [
       "       total_lots lot_type lots_available carpark_number      update_datetime\n",
       "391432        250        C            249            BA4  2021-03-28T23:01:42\n",
       "391433         10        C              0           JS1L  2021-03-28T23:10:55\n",
       "391434        333        C            131            A26  2021-03-28T23:02:14\n",
       "391435        200        C            199           B65M  2021-03-28T23:08:41\n",
       "391436        100        C             99           B65L  2021-03-28T23:08:41"
      ]
     },
     "metadata": {},
     "output_type": "display_data"
    }
   ],
   "source": [
    "df = pd.json_normalize(data, 'carpark_info', ['carpark_number', 'update_datetime'])\n",
    "print(df.shape)\n",
    "display(df.head())\n",
    "display(df.tail())"
   ]
  },
  {
   "cell_type": "code",
   "execution_count": 10,
   "metadata": {
    "scrolled": true
   },
   "outputs": [
    {
     "name": "stdout",
     "output_type": "stream",
     "text": [
      "<class 'pandas.core.frame.DataFrame'>\n",
      "RangeIndex: 391437 entries, 0 to 391436\n",
      "Data columns (total 5 columns):\n",
      " #   Column           Non-Null Count   Dtype \n",
      "---  ------           --------------   ----- \n",
      " 0   total_lots       391437 non-null  object\n",
      " 1   lot_type         391437 non-null  object\n",
      " 2   lots_available   391437 non-null  object\n",
      " 3   carpark_number   391437 non-null  object\n",
      " 4   update_datetime  391437 non-null  object\n",
      "dtypes: object(5)\n",
      "memory usage: 14.9+ MB\n"
     ]
    },
    {
     "data": {
      "text/plain": [
       "None"
      ]
     },
     "metadata": {},
     "output_type": "display_data"
    }
   ],
   "source": [
    "display(df.info())"
   ]
  },
  {
   "cell_type": "code",
   "execution_count": 11,
   "metadata": {},
   "outputs": [
    {
     "data": {
      "text/plain": [
       "C    324573\n",
       "L     23688\n",
       "H     21672\n",
       "Y     21504\n",
       "Name: lot_type, dtype: int64"
      ]
     },
     "execution_count": 11,
     "metadata": {},
     "output_type": "execute_result"
    }
   ],
   "source": [
    "df.lot_type.value_counts()"
   ]
  },
  {
   "cell_type": "markdown",
   "metadata": {},
   "source": [
    "### Split Data (Lot Type)"
   ]
  },
  {
   "cell_type": "markdown",
   "metadata": {},
   "source": [
    "As mentioned earlier, some carparks has more than one record, which was resulted from the split of the different `lot_type` (C, H, L, Y). There is no/little information regarding the lot type that correspond to the alphabet in the data given in data.gov. Furthermore, Lot type C appear to be the most, which seems reasonable to consider them as car parking lots, as the majority of the vehicle are cars. Therefore, it is assumed here that the alphabets correspond with the vehicle type. Since the business model targets on car sharing, <b>only Lot Type C</b> will be selected for this project. \n",
    "\n",
    "<u>For future studies, this can be commented out accordingly or entirely.</u>"
   ]
  },
  {
   "cell_type": "code",
   "execution_count": 12,
   "metadata": {},
   "outputs": [
    {
     "name": "stdout",
     "output_type": "stream",
     "text": [
      "(324573, 5)\n"
     ]
    }
   ],
   "source": [
    "df_c = df[df['lot_type']=='C']\n",
    "print(df_c.shape)\n",
    "\n",
    "# df_l = df[df['lot_type']=='L']\n",
    "# print(df_l.shape)\n",
    "\n",
    "# df_h = df[df['lot_type']=='H']\n",
    "# print(print(df_h.shape))\n",
    "\n",
    "# df_y = df[df['lot_type']=='Y']\n",
    "# print(print(df_y.shape))\n",
    "\n",
    "df =  df_c"
   ]
  },
  {
   "cell_type": "markdown",
   "metadata": {},
   "source": [
    "## Cleaning up Data"
   ]
  },
  {
   "cell_type": "markdown",
   "metadata": {},
   "source": [
    "<b>Side Note:</b>\n",
    "\n",
    "Out of more than 320_000 of the entire data, almost 3.5% (more than 11_000) of the data here are irrelevent. There are carparks that do not exist in the car reference data (Note for future studies)."
   ]
  },
  {
   "cell_type": "code",
   "execution_count": 13,
   "metadata": {},
   "outputs": [
    {
     "name": "stdout",
     "output_type": "stream",
     "text": [
      "Number of data that are non-targeted: 11253\n"
     ]
    },
    {
     "data": {
      "text/html": [
       "<div>\n",
       "<style scoped>\n",
       "    .dataframe tbody tr th:only-of-type {\n",
       "        vertical-align: middle;\n",
       "    }\n",
       "\n",
       "    .dataframe tbody tr th {\n",
       "        vertical-align: top;\n",
       "    }\n",
       "\n",
       "    .dataframe thead th {\n",
       "        text-align: right;\n",
       "    }\n",
       "</style>\n",
       "<table border=\"1\" class=\"dataframe\">\n",
       "  <thead>\n",
       "    <tr style=\"text-align: right;\">\n",
       "      <th></th>\n",
       "      <th>total_lots</th>\n",
       "      <th>lot_type</th>\n",
       "      <th>lots_available</th>\n",
       "      <th>carpark_number</th>\n",
       "      <th>update_datetime</th>\n",
       "    </tr>\n",
       "  </thead>\n",
       "  <tbody>\n",
       "    <tr>\n",
       "      <th>40</th>\n",
       "      <td>320</td>\n",
       "      <td>C</td>\n",
       "      <td>181</td>\n",
       "      <td>RCB</td>\n",
       "      <td>2017-03-31T12:00:21</td>\n",
       "    </tr>\n",
       "    <tr>\n",
       "      <th>165</th>\n",
       "      <td>192</td>\n",
       "      <td>C</td>\n",
       "      <td>142</td>\n",
       "      <td>CK21</td>\n",
       "      <td>2020-03-26T14:26:12</td>\n",
       "    </tr>\n",
       "    <tr>\n",
       "      <th>172</th>\n",
       "      <td>1000</td>\n",
       "      <td>C</td>\n",
       "      <td>19</td>\n",
       "      <td>W2</td>\n",
       "      <td>2017-12-04T10:54:50</td>\n",
       "    </tr>\n",
       "    <tr>\n",
       "      <th>173</th>\n",
       "      <td>1000</td>\n",
       "      <td>C</td>\n",
       "      <td>53</td>\n",
       "      <td>W1</td>\n",
       "      <td>2017-12-04T10:54:50</td>\n",
       "    </tr>\n",
       "    <tr>\n",
       "      <th>200</th>\n",
       "      <td>25</td>\n",
       "      <td>C</td>\n",
       "      <td>0</td>\n",
       "      <td>EPML</td>\n",
       "      <td>2015-12-30T10:38:36</td>\n",
       "    </tr>\n",
       "  </tbody>\n",
       "</table>\n",
       "</div>"
      ],
      "text/plain": [
       "    total_lots lot_type lots_available carpark_number      update_datetime\n",
       "40         320        C            181            RCB  2017-03-31T12:00:21\n",
       "165        192        C            142           CK21  2020-03-26T14:26:12\n",
       "172       1000        C             19             W2  2017-12-04T10:54:50\n",
       "173       1000        C             53             W1  2017-12-04T10:54:50\n",
       "200         25        C              0           EPML  2015-12-30T10:38:36"
      ]
     },
     "metadata": {},
     "output_type": "display_data"
    },
    {
     "name": "stdout",
     "output_type": "stream",
     "text": [
      "Drop percentage: 3.47%\n"
     ]
    }
   ],
   "source": [
    "print(f'Number of data that are non-targeted: {df[~df.carpark_number.isin(carpark.car_park_no)].shape[0]}')\n",
    "display(df[~df['carpark_number'].isin(carpark.car_park_no)].head())\n",
    "print(f\"Drop percentage: {np.round(df[~df['carpark_number'].isin(carpark.car_park_no)].shape[0]/df.shape[0]*100,2)}%\")"
   ]
  },
  {
   "cell_type": "markdown",
   "metadata": {},
   "source": [
    "#### i. Selecting specific data\n",
    "The next step would to be remove the availability data that are neither electronic parking nor whole day parking, using the data obtained from carpark reference data. "
   ]
  },
  {
   "cell_type": "code",
   "execution_count": 14,
   "metadata": {},
   "outputs": [
    {
     "name": "stdout",
     "output_type": "stream",
     "text": [
      "Number of data that are non-targeted: 63501\n"
     ]
    },
    {
     "data": {
      "text/html": [
       "<div>\n",
       "<style scoped>\n",
       "    .dataframe tbody tr th:only-of-type {\n",
       "        vertical-align: middle;\n",
       "    }\n",
       "\n",
       "    .dataframe tbody tr th {\n",
       "        vertical-align: top;\n",
       "    }\n",
       "\n",
       "    .dataframe thead th {\n",
       "        text-align: right;\n",
       "    }\n",
       "</style>\n",
       "<table border=\"1\" class=\"dataframe\">\n",
       "  <thead>\n",
       "    <tr style=\"text-align: right;\">\n",
       "      <th></th>\n",
       "      <th>total_lots</th>\n",
       "      <th>lot_type</th>\n",
       "      <th>lots_available</th>\n",
       "      <th>carpark_number</th>\n",
       "      <th>update_datetime</th>\n",
       "    </tr>\n",
       "  </thead>\n",
       "  <tbody>\n",
       "    <tr>\n",
       "      <th>13</th>\n",
       "      <td>138</td>\n",
       "      <td>C</td>\n",
       "      <td>31</td>\n",
       "      <td>TE14</td>\n",
       "      <td>2021-03-22T00:03:33</td>\n",
       "    </tr>\n",
       "    <tr>\n",
       "      <th>22</th>\n",
       "      <td>362</td>\n",
       "      <td>C</td>\n",
       "      <td>94</td>\n",
       "      <td>T50</td>\n",
       "      <td>2021-03-22T00:00:11</td>\n",
       "    </tr>\n",
       "    <tr>\n",
       "      <th>23</th>\n",
       "      <td>351</td>\n",
       "      <td>C</td>\n",
       "      <td>42</td>\n",
       "      <td>T51</td>\n",
       "      <td>2021-03-22T00:00:32</td>\n",
       "    </tr>\n",
       "    <tr>\n",
       "      <th>34</th>\n",
       "      <td>40</td>\n",
       "      <td>C</td>\n",
       "      <td>15</td>\n",
       "      <td>CY</td>\n",
       "      <td>2021-03-22T00:00:01</td>\n",
       "    </tr>\n",
       "    <tr>\n",
       "      <th>37</th>\n",
       "      <td>363</td>\n",
       "      <td>C</td>\n",
       "      <td>49</td>\n",
       "      <td>BE45</td>\n",
       "      <td>2021-03-22T00:04:07</td>\n",
       "    </tr>\n",
       "  </tbody>\n",
       "</table>\n",
       "</div>"
      ],
      "text/plain": [
       "   total_lots lot_type lots_available carpark_number      update_datetime\n",
       "13        138        C             31           TE14  2021-03-22T00:03:33\n",
       "22        362        C             94            T50  2021-03-22T00:00:11\n",
       "23        351        C             42            T51  2021-03-22T00:00:32\n",
       "34         40        C             15             CY  2021-03-22T00:00:01\n",
       "37        363        C             49           BE45  2021-03-22T00:04:07"
      ]
     },
     "metadata": {},
     "output_type": "display_data"
    },
    {
     "name": "stdout",
     "output_type": "stream",
     "text": [
      "Drop percentage: 19.56%\n"
     ]
    }
   ],
   "source": [
    "print(f'Number of data that are non-targeted: {df[~df.carpark_number.isin(electronic_carpark.car_park_no)].shape[0]}')\n",
    "display(df[~df['carpark_number'].isin(electronic_carpark.car_park_no)].head())\n",
    "print(f\"Drop percentage: {np.round(df[~df['carpark_number'].isin(electronic_carpark.car_park_no)].shape[0]/df.shape[0]*100,2)}%\")"
   ]
  },
  {
   "cell_type": "markdown",
   "metadata": {},
   "source": [
    "Although 19.6% seem to be a big drop in data, it corresponded to the number electronic and whole day parking out of all the carparks in Singapore, with an additional consideration of 3% that was mentioned above."
   ]
  },
  {
   "cell_type": "code",
   "execution_count": 15,
   "metadata": {
    "scrolled": true
   },
   "outputs": [
    {
     "name": "stdout",
     "output_type": "stream",
     "text": [
      "(261072, 5)\n"
     ]
    },
    {
     "data": {
      "text/html": [
       "<div>\n",
       "<style scoped>\n",
       "    .dataframe tbody tr th:only-of-type {\n",
       "        vertical-align: middle;\n",
       "    }\n",
       "\n",
       "    .dataframe tbody tr th {\n",
       "        vertical-align: top;\n",
       "    }\n",
       "\n",
       "    .dataframe thead th {\n",
       "        text-align: right;\n",
       "    }\n",
       "</style>\n",
       "<table border=\"1\" class=\"dataframe\">\n",
       "  <thead>\n",
       "    <tr style=\"text-align: right;\">\n",
       "      <th></th>\n",
       "      <th>total_lots</th>\n",
       "      <th>lot_type</th>\n",
       "      <th>lots_available</th>\n",
       "      <th>carpark_number</th>\n",
       "      <th>update_datetime</th>\n",
       "    </tr>\n",
       "  </thead>\n",
       "  <tbody>\n",
       "    <tr>\n",
       "      <th>0</th>\n",
       "      <td>91</td>\n",
       "      <td>C</td>\n",
       "      <td>38</td>\n",
       "      <td>HE12</td>\n",
       "      <td>2021-03-22T00:03:10</td>\n",
       "    </tr>\n",
       "    <tr>\n",
       "      <th>1</th>\n",
       "      <td>583</td>\n",
       "      <td>C</td>\n",
       "      <td>483</td>\n",
       "      <td>HLM</td>\n",
       "      <td>2021-03-22T00:03:25</td>\n",
       "    </tr>\n",
       "    <tr>\n",
       "      <th>2</th>\n",
       "      <td>322</td>\n",
       "      <td>C</td>\n",
       "      <td>114</td>\n",
       "      <td>RHM</td>\n",
       "      <td>2021-03-22T00:03:10</td>\n",
       "    </tr>\n",
       "    <tr>\n",
       "      <th>3</th>\n",
       "      <td>97</td>\n",
       "      <td>C</td>\n",
       "      <td>86</td>\n",
       "      <td>BM29</td>\n",
       "      <td>2021-03-22T00:03:12</td>\n",
       "    </tr>\n",
       "    <tr>\n",
       "      <th>4</th>\n",
       "      <td>96</td>\n",
       "      <td>C</td>\n",
       "      <td>63</td>\n",
       "      <td>Q81</td>\n",
       "      <td>2021-03-22T00:03:09</td>\n",
       "    </tr>\n",
       "  </tbody>\n",
       "</table>\n",
       "</div>"
      ],
      "text/plain": [
       "  total_lots lot_type lots_available carpark_number      update_datetime\n",
       "0         91        C             38           HE12  2021-03-22T00:03:10\n",
       "1        583        C            483            HLM  2021-03-22T00:03:25\n",
       "2        322        C            114            RHM  2021-03-22T00:03:10\n",
       "3         97        C             86           BM29  2021-03-22T00:03:12\n",
       "4         96        C             63            Q81  2021-03-22T00:03:09"
      ]
     },
     "metadata": {},
     "output_type": "display_data"
    },
    {
     "name": "stdout",
     "output_type": "stream",
     "text": [
      "Total Number of Carparks with Data: 1554\n"
     ]
    }
   ],
   "source": [
    "df = df[df['carpark_number'].isin(electronic_carpark.car_park_no)]\n",
    "print(df.shape)\n",
    "display(df.head())\n",
    "print(f'Total Number of Carparks with Data: {df.carpark_number.nunique()}')"
   ]
  },
  {
   "cell_type": "code",
   "execution_count": 16,
   "metadata": {
    "scrolled": true
   },
   "outputs": [
    {
     "data": {
      "text/html": [
       "<div>\n",
       "<style scoped>\n",
       "    .dataframe tbody tr th:only-of-type {\n",
       "        vertical-align: middle;\n",
       "    }\n",
       "\n",
       "    .dataframe tbody tr th {\n",
       "        vertical-align: top;\n",
       "    }\n",
       "\n",
       "    .dataframe thead th {\n",
       "        text-align: right;\n",
       "    }\n",
       "</style>\n",
       "<table border=\"1\" class=\"dataframe\">\n",
       "  <thead>\n",
       "    <tr style=\"text-align: right;\">\n",
       "      <th></th>\n",
       "      <th>total_lots</th>\n",
       "      <th>lot_type</th>\n",
       "      <th>lots_available</th>\n",
       "      <th>carpark_number</th>\n",
       "      <th>update_datetime</th>\n",
       "    </tr>\n",
       "  </thead>\n",
       "  <tbody>\n",
       "    <tr>\n",
       "      <th>198220</th>\n",
       "      <td>75</td>\n",
       "      <td>C</td>\n",
       "      <td>75</td>\n",
       "      <td>B90</td>\n",
       "      <td>2015-03-03T05:02:19</td>\n",
       "    </tr>\n",
       "    <tr>\n",
       "      <th>216866</th>\n",
       "      <td>75</td>\n",
       "      <td>C</td>\n",
       "      <td>75</td>\n",
       "      <td>B90</td>\n",
       "      <td>2015-03-03T05:02:19</td>\n",
       "    </tr>\n",
       "    <tr>\n",
       "      <th>142323</th>\n",
       "      <td>75</td>\n",
       "      <td>C</td>\n",
       "      <td>75</td>\n",
       "      <td>B90</td>\n",
       "      <td>2015-03-03T05:02:19</td>\n",
       "    </tr>\n",
       "    <tr>\n",
       "      <th>144652</th>\n",
       "      <td>75</td>\n",
       "      <td>C</td>\n",
       "      <td>75</td>\n",
       "      <td>B90</td>\n",
       "      <td>2015-03-03T05:02:19</td>\n",
       "    </tr>\n",
       "    <tr>\n",
       "      <th>312435</th>\n",
       "      <td>75</td>\n",
       "      <td>C</td>\n",
       "      <td>75</td>\n",
       "      <td>B90</td>\n",
       "      <td>2015-03-03T05:02:19</td>\n",
       "    </tr>\n",
       "  </tbody>\n",
       "</table>\n",
       "</div>"
      ],
      "text/plain": [
       "       total_lots lot_type lots_available carpark_number      update_datetime\n",
       "198220         75        C             75            B90  2015-03-03T05:02:19\n",
       "216866         75        C             75            B90  2015-03-03T05:02:19\n",
       "142323         75        C             75            B90  2015-03-03T05:02:19\n",
       "144652         75        C             75            B90  2015-03-03T05:02:19\n",
       "312435         75        C             75            B90  2015-03-03T05:02:19"
      ]
     },
     "metadata": {},
     "output_type": "display_data"
    },
    {
     "data": {
      "text/html": [
       "<div>\n",
       "<style scoped>\n",
       "    .dataframe tbody tr th:only-of-type {\n",
       "        vertical-align: middle;\n",
       "    }\n",
       "\n",
       "    .dataframe tbody tr th {\n",
       "        vertical-align: top;\n",
       "    }\n",
       "\n",
       "    .dataframe thead th {\n",
       "        text-align: right;\n",
       "    }\n",
       "</style>\n",
       "<table border=\"1\" class=\"dataframe\">\n",
       "  <thead>\n",
       "    <tr style=\"text-align: right;\">\n",
       "      <th></th>\n",
       "      <th>total_lots</th>\n",
       "      <th>lot_type</th>\n",
       "      <th>lots_available</th>\n",
       "      <th>carpark_number</th>\n",
       "      <th>update_datetime</th>\n",
       "    </tr>\n",
       "  </thead>\n",
       "  <tbody>\n",
       "    <tr>\n",
       "      <th>389710</th>\n",
       "      <td>591</td>\n",
       "      <td>C</td>\n",
       "      <td>160</td>\n",
       "      <td>J89M</td>\n",
       "      <td>2021-03-28T23:11:22</td>\n",
       "    </tr>\n",
       "    <tr>\n",
       "      <th>391342</th>\n",
       "      <td>72</td>\n",
       "      <td>C</td>\n",
       "      <td>8</td>\n",
       "      <td>J74M</td>\n",
       "      <td>2021-03-28T23:11:22</td>\n",
       "    </tr>\n",
       "    <tr>\n",
       "      <th>389600</th>\n",
       "      <td>491</td>\n",
       "      <td>C</td>\n",
       "      <td>315</td>\n",
       "      <td>JM15</td>\n",
       "      <td>2021-03-28T23:11:22</td>\n",
       "    </tr>\n",
       "    <tr>\n",
       "      <th>389717</th>\n",
       "      <td>1302</td>\n",
       "      <td>C</td>\n",
       "      <td>426</td>\n",
       "      <td>JM28</td>\n",
       "      <td>2021-03-28T23:11:22</td>\n",
       "    </tr>\n",
       "    <tr>\n",
       "      <th>390443</th>\n",
       "      <td>444</td>\n",
       "      <td>C</td>\n",
       "      <td>160</td>\n",
       "      <td>PM26</td>\n",
       "      <td>2021-03-28T23:11:45</td>\n",
       "    </tr>\n",
       "  </tbody>\n",
       "</table>\n",
       "</div>"
      ],
      "text/plain": [
       "       total_lots lot_type lots_available carpark_number      update_datetime\n",
       "389710        591        C            160           J89M  2021-03-28T23:11:22\n",
       "391342         72        C              8           J74M  2021-03-28T23:11:22\n",
       "389600        491        C            315           JM15  2021-03-28T23:11:22\n",
       "389717       1302        C            426           JM28  2021-03-28T23:11:22\n",
       "390443        444        C            160           PM26  2021-03-28T23:11:45"
      ]
     },
     "metadata": {},
     "output_type": "display_data"
    }
   ],
   "source": [
    "display(df.sort_values('update_datetime').head())\n",
    "display(df.sort_values('update_datetime').tail())"
   ]
  },
  {
   "cell_type": "markdown",
   "metadata": {},
   "source": [
    "From the data above and below, `update_datetime` oddly ranges from 2015 to 2021, which produces a bunch duplicated data assuming it continues to scrape the last updated data until there is a new updated one. Therefore I will be dropping data with `update_datetime` that is before the stipulated `from_date` date (that was created for the scraping of data), assuming that this might resulted from an error of the updating system for these carparks, which could give a inaccurate/false results.  \n",
    "\n",
    "I will also check if there are any other duplicates after."
   ]
  },
  {
   "cell_type": "code",
   "execution_count": 17,
   "metadata": {},
   "outputs": [
    {
     "name": "stderr",
     "output_type": "stream",
     "text": [
      "<ipython-input-17-d3e0beb5fc26>:2: SettingWithCopyWarning: \n",
      "A value is trying to be set on a copy of a slice from a DataFrame.\n",
      "Try using .loc[row_indexer,col_indexer] = value instead\n",
      "\n",
      "See the caveats in the documentation: https://pandas.pydata.org/pandas-docs/stable/user_guide/indexing.html#returning-a-view-versus-a-copy\n",
      "  df['update_datetime'] = pd.to_datetime(df['update_datetime'])\n"
     ]
    },
    {
     "data": {
      "text/html": [
       "<div>\n",
       "<style scoped>\n",
       "    .dataframe tbody tr th:only-of-type {\n",
       "        vertical-align: middle;\n",
       "    }\n",
       "\n",
       "    .dataframe tbody tr th {\n",
       "        vertical-align: top;\n",
       "    }\n",
       "\n",
       "    .dataframe thead th {\n",
       "        text-align: right;\n",
       "    }\n",
       "</style>\n",
       "<table border=\"1\" class=\"dataframe\">\n",
       "  <thead>\n",
       "    <tr style=\"text-align: right;\">\n",
       "      <th></th>\n",
       "      <th>total_lots</th>\n",
       "      <th>lot_type</th>\n",
       "      <th>lots_available</th>\n",
       "      <th>carpark_number</th>\n",
       "      <th>update_datetime</th>\n",
       "    </tr>\n",
       "  </thead>\n",
       "  <tbody>\n",
       "    <tr>\n",
       "      <th>3483</th>\n",
       "      <td>194</td>\n",
       "      <td>C</td>\n",
       "      <td>98</td>\n",
       "      <td>TB7</td>\n",
       "      <td>2021-03-22 00:44:16</td>\n",
       "    </tr>\n",
       "    <tr>\n",
       "      <th>2758</th>\n",
       "      <td>360</td>\n",
       "      <td>C</td>\n",
       "      <td>286</td>\n",
       "      <td>JKM</td>\n",
       "      <td>2021-03-22 00:44:24</td>\n",
       "    </tr>\n",
       "    <tr>\n",
       "      <th>2761</th>\n",
       "      <td>42</td>\n",
       "      <td>C</td>\n",
       "      <td>33</td>\n",
       "      <td>JKS</td>\n",
       "      <td>2021-03-22 00:44:25</td>\n",
       "    </tr>\n",
       "    <tr>\n",
       "      <th>3255</th>\n",
       "      <td>433</td>\n",
       "      <td>C</td>\n",
       "      <td>305</td>\n",
       "      <td>JRTM</td>\n",
       "      <td>2021-03-22 00:47:15</td>\n",
       "    </tr>\n",
       "    <tr>\n",
       "      <th>2752</th>\n",
       "      <td>149</td>\n",
       "      <td>C</td>\n",
       "      <td>116</td>\n",
       "      <td>HE3</td>\n",
       "      <td>2021-03-22 00:47:19</td>\n",
       "    </tr>\n",
       "  </tbody>\n",
       "</table>\n",
       "</div>"
      ],
      "text/plain": [
       "     total_lots lot_type lots_available carpark_number     update_datetime\n",
       "3483        194        C             98            TB7 2021-03-22 00:44:16\n",
       "2758        360        C            286            JKM 2021-03-22 00:44:24\n",
       "2761         42        C             33            JKS 2021-03-22 00:44:25\n",
       "3255        433        C            305           JRTM 2021-03-22 00:47:15\n",
       "2752        149        C            116            HE3 2021-03-22 00:47:19"
      ]
     },
     "metadata": {},
     "output_type": "display_data"
    },
    {
     "data": {
      "text/plain": [
       "(253464, 5)"
      ]
     },
     "execution_count": 17,
     "metadata": {},
     "output_type": "execute_result"
    }
   ],
   "source": [
    "# Convert update_datetime column to datetime object\n",
    "df['update_datetime'] = pd.to_datetime(df['update_datetime'])\n",
    "\n",
    "# filter out data before from_date\n",
    "df = df[(df['update_datetime'] > from_date)]\n",
    "display(df.sort_values(by='update_datetime').head())\n",
    "df.shape"
   ]
  },
  {
   "cell_type": "markdown",
   "metadata": {},
   "source": [
    "#### ii. Duplicates"
   ]
  },
  {
   "cell_type": "code",
   "execution_count": 18,
   "metadata": {},
   "outputs": [
    {
     "name": "stdout",
     "output_type": "stream",
     "text": [
      "Complete duplicates:  1230\n"
     ]
    },
    {
     "data": {
      "text/html": [
       "<div>\n",
       "<style scoped>\n",
       "    .dataframe tbody tr th:only-of-type {\n",
       "        vertical-align: middle;\n",
       "    }\n",
       "\n",
       "    .dataframe tbody tr th {\n",
       "        vertical-align: top;\n",
       "    }\n",
       "\n",
       "    .dataframe thead th {\n",
       "        text-align: right;\n",
       "    }\n",
       "</style>\n",
       "<table border=\"1\" class=\"dataframe\">\n",
       "  <thead>\n",
       "    <tr style=\"text-align: right;\">\n",
       "      <th></th>\n",
       "      <th>total_lots</th>\n",
       "      <th>lot_type</th>\n",
       "      <th>lots_available</th>\n",
       "      <th>carpark_number</th>\n",
       "      <th>update_datetime</th>\n",
       "    </tr>\n",
       "  </thead>\n",
       "  <tbody>\n",
       "    <tr>\n",
       "      <th>110284</th>\n",
       "      <td>285</td>\n",
       "      <td>C</td>\n",
       "      <td>201</td>\n",
       "      <td>ACM</td>\n",
       "      <td>2021-03-23 21:58:55</td>\n",
       "    </tr>\n",
       "    <tr>\n",
       "      <th>112604</th>\n",
       "      <td>285</td>\n",
       "      <td>C</td>\n",
       "      <td>201</td>\n",
       "      <td>ACM</td>\n",
       "      <td>2021-03-23 21:58:55</td>\n",
       "    </tr>\n",
       "    <tr>\n",
       "      <th>114935</th>\n",
       "      <td>285</td>\n",
       "      <td>C</td>\n",
       "      <td>201</td>\n",
       "      <td>ACM</td>\n",
       "      <td>2021-03-23 21:58:55</td>\n",
       "    </tr>\n",
       "    <tr>\n",
       "      <th>117265</th>\n",
       "      <td>285</td>\n",
       "      <td>C</td>\n",
       "      <td>201</td>\n",
       "      <td>ACM</td>\n",
       "      <td>2021-03-23 21:58:55</td>\n",
       "    </tr>\n",
       "    <tr>\n",
       "      <th>119601</th>\n",
       "      <td>285</td>\n",
       "      <td>C</td>\n",
       "      <td>201</td>\n",
       "      <td>ACM</td>\n",
       "      <td>2021-03-23 21:58:55</td>\n",
       "    </tr>\n",
       "  </tbody>\n",
       "</table>\n",
       "</div>"
      ],
      "text/plain": [
       "       total_lots lot_type lots_available carpark_number     update_datetime\n",
       "110284        285        C            201            ACM 2021-03-23 21:58:55\n",
       "112604        285        C            201            ACM 2021-03-23 21:58:55\n",
       "114935        285        C            201            ACM 2021-03-23 21:58:55\n",
       "117265        285        C            201            ACM 2021-03-23 21:58:55\n",
       "119601        285        C            201            ACM 2021-03-23 21:58:55"
      ]
     },
     "metadata": {},
     "output_type": "display_data"
    }
   ],
   "source": [
    "# Check drop for Complete Duplicates as they are not required\n",
    "print(\"Complete duplicates: \", df.duplicated().sum())\n",
    "display((df[df.duplicated()]).sort_values(by=['carpark_number','update_datetime']).head())"
   ]
  },
  {
   "cell_type": "markdown",
   "metadata": {},
   "source": [
    "Duplicated data are dropped as well as it does not add any value."
   ]
  },
  {
   "cell_type": "code",
   "execution_count": 19,
   "metadata": {},
   "outputs": [
    {
     "data": {
      "text/plain": [
       "(252234, 5)"
      ]
     },
     "execution_count": 19,
     "metadata": {},
     "output_type": "execute_result"
    }
   ],
   "source": [
    "df = df.drop_duplicates()\n",
    "df.shape"
   ]
  },
  {
   "cell_type": "markdown",
   "metadata": {},
   "source": [
    "#### iii. Missing Values"
   ]
  },
  {
   "cell_type": "code",
   "execution_count": 20,
   "metadata": {},
   "outputs": [
    {
     "name": "stdout",
     "output_type": "stream",
     "text": [
      "Series([], dtype: int64)\n"
     ]
    }
   ],
   "source": [
    "print((df.isnull().sum())[df.isnull().sum()>0].sort_values(ascending=False))"
   ]
  },
  {
   "cell_type": "markdown",
   "metadata": {},
   "source": [
    "#### iv. Data Types"
   ]
  },
  {
   "cell_type": "markdown",
   "metadata": {},
   "source": [
    "Now that data is pretty much cleaned, I will be changing the variables to their respective datatypes for easy and effective handling."
   ]
  },
  {
   "cell_type": "code",
   "execution_count": 21,
   "metadata": {},
   "outputs": [],
   "source": [
    "# Integer Varibles\n",
    "df.total_lots = df.total_lots.astype('int64')\n",
    "df.lots_available = df.lots_available.astype('int64')"
   ]
  },
  {
   "cell_type": "code",
   "execution_count": 23,
   "metadata": {},
   "outputs": [],
   "source": [
    "# Save cleaned dataframe into a separate file\n",
    "df.to_csv(\"./datasets/carpark_availability_final.csv\", index = False)"
   ]
  },
  {
   "cell_type": "markdown",
   "metadata": {},
   "source": [
    "###  Largest Carpark"
   ]
  },
  {
   "cell_type": "code",
   "execution_count": 25,
   "metadata": {},
   "outputs": [
    {
     "data": {
      "text/plain": [
       "carpark_number\n",
       "BJ49    4443.0\n",
       "CKM5    2754.0\n",
       "CK58    2637.0\n",
       "CK52    2064.0\n",
       "BM10    2000.0\n",
       "Name: total_lots, dtype: float64"
      ]
     },
     "execution_count": 25,
     "metadata": {},
     "output_type": "execute_result"
    }
   ],
   "source": [
    "df.groupby('carpark_number').total_lots.agg(np.mean).sort_values(ascending=False).head(5)"
   ]
  },
  {
   "cell_type": "code",
   "execution_count": 26,
   "metadata": {},
   "outputs": [
    {
     "data": {
      "text/html": [
       "<div>\n",
       "<style scoped>\n",
       "    .dataframe tbody tr th:only-of-type {\n",
       "        vertical-align: middle;\n",
       "    }\n",
       "\n",
       "    .dataframe tbody tr th {\n",
       "        vertical-align: top;\n",
       "    }\n",
       "\n",
       "    .dataframe thead th {\n",
       "        text-align: right;\n",
       "    }\n",
       "</style>\n",
       "<table border=\"1\" class=\"dataframe\">\n",
       "  <thead>\n",
       "    <tr style=\"text-align: right;\">\n",
       "      <th></th>\n",
       "      <th>total_lots</th>\n",
       "      <th>lot_type</th>\n",
       "      <th>lots_available</th>\n",
       "      <th>carpark_number</th>\n",
       "      <th>update_datetime</th>\n",
       "    </tr>\n",
       "  </thead>\n",
       "  <tbody>\n",
       "    <tr>\n",
       "      <th>2942</th>\n",
       "      <td>4443</td>\n",
       "      <td>C</td>\n",
       "      <td>3325</td>\n",
       "      <td>BJ49</td>\n",
       "      <td>2021-03-22 01:02:51</td>\n",
       "    </tr>\n",
       "    <tr>\n",
       "      <th>5275</th>\n",
       "      <td>4443</td>\n",
       "      <td>C</td>\n",
       "      <td>3316</td>\n",
       "      <td>BJ49</td>\n",
       "      <td>2021-03-22 02:05:22</td>\n",
       "    </tr>\n",
       "    <tr>\n",
       "      <th>7603</th>\n",
       "      <td>4443</td>\n",
       "      <td>C</td>\n",
       "      <td>3319</td>\n",
       "      <td>BJ49</td>\n",
       "      <td>2021-03-22 03:04:53</td>\n",
       "    </tr>\n",
       "    <tr>\n",
       "      <th>9933</th>\n",
       "      <td>4443</td>\n",
       "      <td>C</td>\n",
       "      <td>3316</td>\n",
       "      <td>BJ49</td>\n",
       "      <td>2021-03-22 04:07:25</td>\n",
       "    </tr>\n",
       "    <tr>\n",
       "      <th>12262</th>\n",
       "      <td>4443</td>\n",
       "      <td>C</td>\n",
       "      <td>3328</td>\n",
       "      <td>BJ49</td>\n",
       "      <td>2021-03-22 05:07:27</td>\n",
       "    </tr>\n",
       "  </tbody>\n",
       "</table>\n",
       "</div>"
      ],
      "text/plain": [
       "       total_lots lot_type  lots_available carpark_number     update_datetime\n",
       "2942         4443        C            3325           BJ49 2021-03-22 01:02:51\n",
       "5275         4443        C            3316           BJ49 2021-03-22 02:05:22\n",
       "7603         4443        C            3319           BJ49 2021-03-22 03:04:53\n",
       "9933         4443        C            3316           BJ49 2021-03-22 04:07:25\n",
       "12262        4443        C            3328           BJ49 2021-03-22 05:07:27"
      ]
     },
     "execution_count": 26,
     "metadata": {},
     "output_type": "execute_result"
    }
   ],
   "source": [
    "(df[df['carpark_number'] == 'BJ49']).head()"
   ]
  },
  {
   "cell_type": "code",
   "execution_count": 27,
   "metadata": {
    "scrolled": true
   },
   "outputs": [
    {
     "data": {
      "text/html": [
       "<div>\n",
       "<style scoped>\n",
       "    .dataframe tbody tr th:only-of-type {\n",
       "        vertical-align: middle;\n",
       "    }\n",
       "\n",
       "    .dataframe tbody tr th {\n",
       "        vertical-align: top;\n",
       "    }\n",
       "\n",
       "    .dataframe thead th {\n",
       "        text-align: right;\n",
       "    }\n",
       "</style>\n",
       "<table border=\"1\" class=\"dataframe\">\n",
       "  <thead>\n",
       "    <tr style=\"text-align: right;\">\n",
       "      <th></th>\n",
       "      <th>car_park_no</th>\n",
       "      <th>address</th>\n",
       "      <th>x_coord</th>\n",
       "      <th>y_coord</th>\n",
       "      <th>car_park_type</th>\n",
       "      <th>type_of_parking_system</th>\n",
       "      <th>short_term_parking</th>\n",
       "      <th>free_parking</th>\n",
       "      <th>night_parking</th>\n",
       "      <th>car_park_decks</th>\n",
       "      <th>gantry_height</th>\n",
       "      <th>car_park_basement</th>\n",
       "    </tr>\n",
       "  </thead>\n",
       "  <tbody>\n",
       "    <tr>\n",
       "      <th>218</th>\n",
       "      <td>BJ49</td>\n",
       "      <td>BLK 611A/613A/615A/616A BUKIT PANJANG RING ROAD/SENJA ROAD</td>\n",
       "      <td>20006.0358</td>\n",
       "      <td>40760.5616</td>\n",
       "      <td>MULTI-STOREY CAR PARK</td>\n",
       "      <td>ELECTRONIC PARKING</td>\n",
       "      <td>WHOLE DAY</td>\n",
       "      <td>SUN &amp; PH FR 7AM-10.30PM</td>\n",
       "      <td>YES</td>\n",
       "      <td>6</td>\n",
       "      <td>2.15</td>\n",
       "      <td>N</td>\n",
       "    </tr>\n",
       "  </tbody>\n",
       "</table>\n",
       "</div>"
      ],
      "text/plain": [
       "    car_park_no                                                     address  \\\n",
       "218        BJ49  BLK 611A/613A/615A/616A BUKIT PANJANG RING ROAD/SENJA ROAD   \n",
       "\n",
       "        x_coord     y_coord          car_park_type type_of_parking_system  \\\n",
       "218  20006.0358  40760.5616  MULTI-STOREY CAR PARK     ELECTRONIC PARKING   \n",
       "\n",
       "    short_term_parking             free_parking night_parking  car_park_decks  \\\n",
       "218          WHOLE DAY  SUN & PH FR 7AM-10.30PM           YES               6   \n",
       "\n",
       "     gantry_height car_park_basement  \n",
       "218           2.15                 N  "
      ]
     },
     "metadata": {},
     "output_type": "display_data"
    }
   ],
   "source": [
    "display(carpark[carpark['car_park_no'] == 'BJ49'])"
   ]
  },
  {
   "cell_type": "markdown",
   "metadata": {},
   "source": [
    "Carpark BJ49 has the most number of parking spaces which seem a little unbelivable at first but according to the carpark reference data, and it appears to be a combination of 4 different block hence the size, hence the largest carpark."
   ]
  },
  {
   "cell_type": "markdown",
   "metadata": {},
   "source": [
    "![map](./images/largest_carpark_sg.png \"Largest Carpark\")"
   ]
  },
  {
   "cell_type": "markdown",
   "metadata": {},
   "source": [
    "It is always easier to visualize, here you can see that carpark BJ49 has the darkest shade which corresponds with the highest number of lots of 4443. "
   ]
  },
  {
   "cell_type": "markdown",
   "metadata": {},
   "source": [
    "## Feature Engineering"
   ]
  },
  {
   "cell_type": "markdown",
   "metadata": {},
   "source": [
    "In order to look into how well carparks in Singapore are being utilized. I will first engineer a feature that calculates the percentage of usage of every observation. With that information on hand, I will be able to look at the average occupancy of  each carpark over the collected period. "
   ]
  },
  {
   "cell_type": "code",
   "execution_count": 28,
   "metadata": {},
   "outputs": [],
   "source": [
    "# Calculate the number of used space in percentage\n",
    "df['used_space'] = np.round((1 - df['lots_available']/df['total_lots'])*100, 2)"
   ]
  },
  {
   "cell_type": "code",
   "execution_count": 29,
   "metadata": {},
   "outputs": [
    {
     "data": {
      "text/html": [
       "<div>\n",
       "<style scoped>\n",
       "    .dataframe tbody tr th:only-of-type {\n",
       "        vertical-align: middle;\n",
       "    }\n",
       "\n",
       "    .dataframe tbody tr th {\n",
       "        vertical-align: top;\n",
       "    }\n",
       "\n",
       "    .dataframe thead th {\n",
       "        text-align: right;\n",
       "    }\n",
       "</style>\n",
       "<table border=\"1\" class=\"dataframe\">\n",
       "  <thead>\n",
       "    <tr style=\"text-align: right;\">\n",
       "      <th></th>\n",
       "      <th>total_lots</th>\n",
       "      <th>lot_type</th>\n",
       "      <th>lots_available</th>\n",
       "      <th>carpark_number</th>\n",
       "      <th>update_datetime</th>\n",
       "      <th>used_space</th>\n",
       "    </tr>\n",
       "  </thead>\n",
       "  <tbody>\n",
       "    <tr>\n",
       "      <th>77510</th>\n",
       "      <td>350</td>\n",
       "      <td>C</td>\n",
       "      <td>350</td>\n",
       "      <td>SB5</td>\n",
       "      <td>2021-03-23 09:06:28</td>\n",
       "      <td>0.0</td>\n",
       "    </tr>\n",
       "    <tr>\n",
       "      <th>117961</th>\n",
       "      <td>576</td>\n",
       "      <td>C</td>\n",
       "      <td>576</td>\n",
       "      <td>PRM</td>\n",
       "      <td>2021-03-24 02:22:11</td>\n",
       "      <td>0.0</td>\n",
       "    </tr>\n",
       "    <tr>\n",
       "      <th>282867</th>\n",
       "      <td>43</td>\n",
       "      <td>C</td>\n",
       "      <td>43</td>\n",
       "      <td>HG97</td>\n",
       "      <td>2021-03-27 01:26:54</td>\n",
       "      <td>0.0</td>\n",
       "    </tr>\n",
       "    <tr>\n",
       "      <th>105449</th>\n",
       "      <td>500</td>\n",
       "      <td>C</td>\n",
       "      <td>500</td>\n",
       "      <td>SB16</td>\n",
       "      <td>2021-03-23 21:18:12</td>\n",
       "      <td>0.0</td>\n",
       "    </tr>\n",
       "    <tr>\n",
       "      <th>352998</th>\n",
       "      <td>544</td>\n",
       "      <td>C</td>\n",
       "      <td>544</td>\n",
       "      <td>TJ32</td>\n",
       "      <td>2021-03-28 07:25:31</td>\n",
       "      <td>0.0</td>\n",
       "    </tr>\n",
       "  </tbody>\n",
       "</table>\n",
       "</div>"
      ],
      "text/plain": [
       "        total_lots lot_type  lots_available carpark_number  \\\n",
       "77510          350        C             350            SB5   \n",
       "117961         576        C             576            PRM   \n",
       "282867          43        C              43           HG97   \n",
       "105449         500        C             500           SB16   \n",
       "352998         544        C             544           TJ32   \n",
       "\n",
       "           update_datetime  used_space  \n",
       "77510  2021-03-23 09:06:28         0.0  \n",
       "117961 2021-03-24 02:22:11         0.0  \n",
       "282867 2021-03-27 01:26:54         0.0  \n",
       "105449 2021-03-23 21:18:12         0.0  \n",
       "352998 2021-03-28 07:25:31         0.0  "
      ]
     },
     "execution_count": 29,
     "metadata": {},
     "output_type": "execute_result"
    }
   ],
   "source": [
    "df.sort_values('used_space').head()"
   ]
  },
  {
   "cell_type": "code",
   "execution_count": 30,
   "metadata": {},
   "outputs": [
    {
     "data": {
      "text/html": [
       "<div>\n",
       "<style scoped>\n",
       "    .dataframe tbody tr th:only-of-type {\n",
       "        vertical-align: middle;\n",
       "    }\n",
       "\n",
       "    .dataframe tbody tr th {\n",
       "        vertical-align: top;\n",
       "    }\n",
       "\n",
       "    .dataframe thead th {\n",
       "        text-align: right;\n",
       "    }\n",
       "</style>\n",
       "<table border=\"1\" class=\"dataframe\">\n",
       "  <thead>\n",
       "    <tr style=\"text-align: right;\">\n",
       "      <th></th>\n",
       "      <th>used_space</th>\n",
       "    </tr>\n",
       "    <tr>\n",
       "      <th>carpark_number</th>\n",
       "      <th></th>\n",
       "    </tr>\n",
       "  </thead>\n",
       "  <tbody>\n",
       "    <tr>\n",
       "      <th>W94</th>\n",
       "      <td>0.280000</td>\n",
       "    </tr>\n",
       "    <tr>\n",
       "      <th>PM15</th>\n",
       "      <td>0.540120</td>\n",
       "    </tr>\n",
       "    <tr>\n",
       "      <th>PM2</th>\n",
       "      <td>1.763855</td>\n",
       "    </tr>\n",
       "    <tr>\n",
       "      <th>PM4</th>\n",
       "      <td>1.862695</td>\n",
       "    </tr>\n",
       "    <tr>\n",
       "      <th>TRS</th>\n",
       "      <td>2.600000</td>\n",
       "    </tr>\n",
       "  </tbody>\n",
       "</table>\n",
       "</div>"
      ],
      "text/plain": [
       "                used_space\n",
       "carpark_number            \n",
       "W94               0.280000\n",
       "PM15              0.540120\n",
       "PM2               1.763855\n",
       "PM4               1.862695\n",
       "TRS               2.600000"
      ]
     },
     "metadata": {},
     "output_type": "display_data"
    },
    {
     "data": {
      "text/html": [
       "<div>\n",
       "<style scoped>\n",
       "    .dataframe tbody tr th:only-of-type {\n",
       "        vertical-align: middle;\n",
       "    }\n",
       "\n",
       "    .dataframe tbody tr th {\n",
       "        vertical-align: top;\n",
       "    }\n",
       "\n",
       "    .dataframe thead th {\n",
       "        text-align: right;\n",
       "    }\n",
       "</style>\n",
       "<table border=\"1\" class=\"dataframe\">\n",
       "  <thead>\n",
       "    <tr style=\"text-align: right;\">\n",
       "      <th></th>\n",
       "      <th>used_space</th>\n",
       "    </tr>\n",
       "    <tr>\n",
       "      <th>carpark_number</th>\n",
       "      <th></th>\n",
       "    </tr>\n",
       "  </thead>\n",
       "  <tbody>\n",
       "    <tr>\n",
       "      <th>J62</th>\n",
       "      <td>97.103234</td>\n",
       "    </tr>\n",
       "    <tr>\n",
       "      <th>BL3</th>\n",
       "      <td>98.337605</td>\n",
       "    </tr>\n",
       "    <tr>\n",
       "      <th>BJ62</th>\n",
       "      <td>98.855389</td>\n",
       "    </tr>\n",
       "    <tr>\n",
       "      <th>A30</th>\n",
       "      <td>99.650778</td>\n",
       "    </tr>\n",
       "    <tr>\n",
       "      <th>TP31</th>\n",
       "      <td>99.784431</td>\n",
       "    </tr>\n",
       "    <tr>\n",
       "      <th>A33</th>\n",
       "      <td>100.000000</td>\n",
       "    </tr>\n",
       "    <tr>\n",
       "      <th>CR29</th>\n",
       "      <td>100.000000</td>\n",
       "    </tr>\n",
       "    <tr>\n",
       "      <th>STM3</th>\n",
       "      <td>100.000000</td>\n",
       "    </tr>\n",
       "    <tr>\n",
       "      <th>MLM</th>\n",
       "      <td>100.000000</td>\n",
       "    </tr>\n",
       "    <tr>\n",
       "      <th>W19</th>\n",
       "      <td>100.000000</td>\n",
       "    </tr>\n",
       "  </tbody>\n",
       "</table>\n",
       "</div>"
      ],
      "text/plain": [
       "                used_space\n",
       "carpark_number            \n",
       "J62              97.103234\n",
       "BL3              98.337605\n",
       "BJ62             98.855389\n",
       "A30              99.650778\n",
       "TP31             99.784431\n",
       "A33             100.000000\n",
       "CR29            100.000000\n",
       "STM3            100.000000\n",
       "MLM             100.000000\n",
       "W19             100.000000"
      ]
     },
     "metadata": {},
     "output_type": "display_data"
    }
   ],
   "source": [
    "# Average occupancy in the collected period\n",
    "occupancy = pd.DataFrame(df.groupby(by='carpark_number').used_space.agg(np.mean)).sort_values(['used_space'])\n",
    "display(occupancy.head())\n",
    "display(occupancy.tail(10))"
   ]
  },
  {
   "cell_type": "markdown",
   "metadata": {},
   "source": [
    "Carparks W94, PM15, PM2 appear to be the least utilized carparks and this carparks appear to be in the mature estates. On top of that, there are 5 carparks with 100% occupancy which is very unlikely which requires more exploration for future studies. "
   ]
  },
  {
   "cell_type": "code",
   "execution_count": 31,
   "metadata": {},
   "outputs": [
    {
     "data": {
      "text/plain": [
       "used_space    15.322275\n",
       "Name: BJ49, dtype: float64"
      ]
     },
     "execution_count": 31,
     "metadata": {},
     "output_type": "execute_result"
    }
   ],
   "source": [
    "occupancy.loc['BJ49']"
   ]
  },
  {
   "cell_type": "markdown",
   "metadata": {},
   "source": [
    "Even with the largaest carpark, occupancy rate is only at 15%."
   ]
  },
  {
   "cell_type": "markdown",
   "metadata": {},
   "source": [
    "## Exploratory Data Analysis"
   ]
  },
  {
   "cell_type": "code",
   "execution_count": 32,
   "metadata": {},
   "outputs": [
    {
     "data": {
      "image/png": "[encoded data removed]",
      "text/plain": [
       "<Figure size 936x360 with 1 Axes>"
      ]
     },
     "metadata": {
      "needs_background": "light"
     },
     "output_type": "display_data"
    }
   ],
   "source": [
    "ax = occupancy[0:50].reset_index().plot.bar(x='carpark_number', y='used_space', figsize=(13,5))\n",
    "ax.set(title='Lowest Weekly Avg Occupancy of Carparks', xlabel='Carpark Number', ylabel='Percentage');"
   ]
  },
  {
   "cell_type": "code",
   "execution_count": 33,
   "metadata": {},
   "outputs": [
    {
     "data": {
      "image/png": "[encoded data removed]",
      "text/plain": [
       "<Figure size 936x360 with 1 Axes>"
      ]
     },
     "metadata": {
      "needs_background": "light"
     },
     "output_type": "display_data"
    }
   ],
   "source": [
    "ax = occupancy[-50:].reset_index().plot.bar(x='carpark_number', y='used_space', figsize=(13,5))\n",
    "ax.set(title='Top Weekly Avg Occupancy of Carparks', xlabel='Carpark Number', ylabel='Percentage');"
   ]
  },
  {
   "cell_type": "markdown",
   "metadata": {},
   "source": [
    "### Utilization Space of the Top 3 Largest Carpark "
   ]
  },
  {
   "cell_type": "code",
   "execution_count": 34,
   "metadata": {},
   "outputs": [
    {
     "data": {
      "image/png": "[encoded data removed]",
      "text/plain": [
       "<Figure size 1080x504 with 1 Axes>"
      ]
     },
     "metadata": {
      "needs_background": "light"
     },
     "output_type": "display_data"
    }
   ],
   "source": [
    "fig, ax = plt.subplots(figsize=(15,7))\n",
    "\n",
    "ax.plot(df[df.carpark_number == 'BJ49'].update_datetime, df[df.carpark_number == 'BJ49']['used_space'], label='BJ49')\n",
    "ax.plot(df[df.carpark_number == 'CKM5'].update_datetime, df[df.carpark_number == 'CKM5']['used_space'], label='CKM5')\n",
    "ax.plot(df[df.carpark_number == 'CK58'].update_datetime, df[df.carpark_number == 'CK58']['used_space'], label='CK58')\n",
    "\n",
    "ax.set_title('Utilization Space of the Top 3 Largest Carpark', fontsize=20)\n",
    "plt.ylabel('Percentage (%)', fontsize=15)\n",
    "plt.xlabel('Time', fontsize=15)\n",
    "plt.grid()\n",
    "plt.legend()\n",
    "plt.show()"
   ]
  },
  {
   "cell_type": "markdown",
   "metadata": {},
   "source": [
    "As these carparks are located in HDB areas, this graph here depicts the activities of the car owners. Used spaced are at the highest point as car owners head home for the night and daily activity such as work, resumes in the morning where majority of the car leaves. Expectedly, car owners come home later in the night during the weekend and leaves later in the morning. On top of that, residences are lessly likely to travel out on the weekend as well. Generally there's more usage of cars on the weekdays than the weekends. "
   ]
  },
  {
   "cell_type": "markdown",
   "metadata": {},
   "source": [
    "### Top 3 Underutilized Carpark"
   ]
  },
  {
   "cell_type": "code",
   "execution_count": 35,
   "metadata": {},
   "outputs": [
    {
     "data": {
      "image/png": "[encoded data removed]",
      "text/plain": [
       "<Figure size 1080x504 with 1 Axes>"
      ]
     },
     "metadata": {
      "needs_background": "light"
     },
     "output_type": "display_data"
    }
   ],
   "source": [
    "fig, ax = plt.subplots(figsize=(15,7))\n",
    "\n",
    "ax.plot(df[df.carpark_number == 'W94'].update_datetime, df[df.carpark_number == 'W94']['used_space'], label='W94')\n",
    "ax.plot(df[df.carpark_number == 'PM15'].update_datetime, df[df.carpark_number == 'PM15']['used_space'], label='PM15')\n",
    "ax.plot(df[df.carpark_number == 'PM2'].update_datetime, df[df.carpark_number == 'PM2']['used_space'], label='PM2')\n",
    "\n",
    "ax.set_title('Top 3 Underutilized Carparks', fontsize=20)\n",
    "plt.ylabel('Percentage (%)', fontsize=15)\n",
    "plt.xlabel('Time', fontsize=15)\n",
    "plt.grid()\n",
    "plt.legend()\n",
    "plt.show()"
   ]
  },
  {
   "cell_type": "code",
   "execution_count": 36,
   "metadata": {},
   "outputs": [],
   "source": [
    "# display(electronic_carpark[electronic_carpark.car_park_no == 'W94']) # Woodlands\n",
    "# display(electronic_carpark[electronic_carpark.car_park_no == 'PM15']) # Pasir Ris\n",
    "# display(electronic_carpark[electronic_carpark.car_park_no == 'PM2']) # Pasir Ris\n",
    "# display(electronic_carpark[electronic_carpark.car_park_no == 'PM4']) # Pasir Ris\n",
    "# display(electronic_carpark[electronic_carpark.car_park_no == 'TRS']) # Tanjong Rhu"
   ]
  },
  {
   "cell_type": "markdown",
   "metadata": {},
   "source": [
    "As it has way lesser movement or cars, the graph here looks more erratic for both carpark PM15 and PM2 (potentially for carparks that are of low utilisation), as a result the graph is greatly influenced by the small differences."
   ]
  },
  {
   "cell_type": "markdown",
   "metadata": {},
   "source": [
    "## Summary"
   ]
  },
  {
   "cell_type": "markdown",
   "metadata": {},
   "source": [
    "Based on the data collected, the largest carpark that is electronic and whole day parking is located at BLK 611A/613A/615A/616A Bukit Panjang Ring Road/Senja Road. Although it might not be of the lowest utilized carpark, it has a average utilization of 15%. This could also mean that majority of the residences living in that in the area does not own a car. \n",
    "\n",
    "For future studies, we could explore the number of car owners in each estates in order to target specific estates  with low number of car owners. For instance, shown in the chart below [(source)](https://www.hdb.gov.sg/-/media/doc/PLG/monograph-1-29-dec-2014.pdf), we could look more into mature towns/estates like Central Area or Queenstown area, accordingly to 2013 data. "
   ]
  },
  {
   "cell_type": "markdown",
   "metadata": {},
   "source": [
    "![alt text](./images/ownership_of_cars_of_hdb_households.png \"title\")"
   ]
  },
  {
   "cell_type": "markdown",
   "metadata": {},
   "source": [
    "On top of that, we could also look for more options to cut cost for example prioritizing whole day electronic parking with free weekends as data shown that (probably due to Covid-19), residences are more likely to stay in for the weekend and therefore, lesser cars will be used. "
   ]
  },
  {
   "cell_type": "code",
   "execution_count": null,
   "metadata": {},
   "outputs": [],
   "source": []
  }
 ],
 "metadata": {
  "kernelspec": {
   "display_name": "Python 3",
   "language": "python",
   "name": "python3"
  },
  "language_info": {
   "codemirror_mode": {
    "name": "ipython",
    "version": 3
   },
   "file_extension": ".py",
   "mimetype": "text/x-python",
   "name": "python",
   "nbconvert_exporter": "python",
   "pygments_lexer": "ipython3",
   "version": "3.8.5"
  }
 },
 "nbformat": 4,
 "nbformat_minor": 4
}
