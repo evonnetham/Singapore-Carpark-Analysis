{
 "cells": [
  {
   "cell_type": "code",
   "execution_count": 1,
   "metadata": {},
   "outputs": [],
   "source": [
    "import tkinter as tk\n",
    "from PIL import ImageTk, Image\n",
    "from tkinter import messagebox\n",
    "\n",
    "root=tk.Tk()\n",
    "root.geometry(\"500x360\")\n",
    "root.title(\"Carpark Availability Info App\")\n",
    "\n",
    "# img = ImageTk.PhotoImage(Image.open(\"Top3_utilized_space.png\"))\n",
    "\n",
    "frame=tk.Frame(root)\n",
    "frame.place(relx=0.2,rely=0.2,relheight=1,relwidth=1)\n",
    "\n",
    "def largest_carparks():\n",
    "    label=tk.Label(frame,\n",
    "                   text=\"Largest Carpark is \\n Carpark Number BJ49 \\n Located at Bukit Panjang Ring Road\")\n",
    "    label.place(relx=0.1,rely=0.1)\n",
    "\n",
    "def under_utilized():\n",
    "    label=tk.Label(frame,text=\"Most Under-utilized Carparks is \\n Carpark Number W94 \\n Located at Woodlands Avenue 6   \")\n",
    "    label.place(relx=0.1,rely=0.1)\n",
    "\n",
    "def Top_3_utilized_carpark():\n",
    "    label=tk.Label(frame,text='this is the page3')\n",
    "    label.place(relx=0.1,rely=0.1)\n",
    "    \n",
    "def exit_application():\n",
    "    MsgBox = tk.messagebox.askquestion ('Exit Application','Are you sure you want to exit the application',icon = 'warning')\n",
    "    if MsgBox == 'yes':\n",
    "       root.destroy()\n",
    "    else:\n",
    "        tk.messagebox.showinfo('Return','You will now return to the application screen')\n",
    "\n",
    "bt = tk.Button(root,text='Largest Carparks',command=largest_carparks).pack(side='left')\n",
    "\n",
    "bt1 = tk.Button(root,text='Most Under Utilized',command=under_utilized).pack(side='left')\n",
    "\n",
    "# bt2 = tk.Button(root, text = \"Top 3 Utilized Carparks\", image = img, command=Top_3_utilized_carpark).pack(side='left')\n",
    "\n",
    "exit_bt = tk.Button (root, text='Exit Application',command=exit_application).pack(side='left')\n",
    "\n",
    "canvas1 = tk.Canvas(root)\n",
    "canvas1.pack()\n",
    "canvas1.create_window(150, 30, window=exit_bt)\n",
    "\n",
    "root.mainloop()"
   ]
  },
  {
   "cell_type": "code",
   "execution_count": null,
   "metadata": {},
   "outputs": [],
   "source": []
  }
 ],
 "metadata": {
  "kernelspec": {
   "display_name": "Python 3",
   "language": "python",
   "name": "python3"
  },
  "language_info": {
   "codemirror_mode": {
    "name": "ipython",
    "version": 3
   },
   "file_extension": ".py",
   "mimetype": "text/x-python",
   "name": "python",
   "nbconvert_exporter": "python",
   "pygments_lexer": "ipython3",
   "version": "3.8.5"
  }
 },
 "nbformat": 4,
 "nbformat_minor": 4
}
